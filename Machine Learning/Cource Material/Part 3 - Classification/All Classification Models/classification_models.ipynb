{
 "cells": [
  {
   "cell_type": "code",
   "execution_count": 1,
   "metadata": {},
   "outputs": [],
   "source": [
    "# we start by importing the nedded libs\n",
    "\n",
    "import numpy as np\n",
    "import pandas as pd\n",
    "import matplotlib.pyplot as plt\n",
    "\n",
    "\n",
    "# then we import our data set \n",
    "\n",
    "dataset = pd.read_csv('Social_Network_Ads.csv')\n",
    "X = dataset.iloc[:, :-1].values\n",
    "y = dataset.iloc[:, -1].values\n",
    "\n",
    "# then we split our dataset into testing set and traing set\n",
    "from sklearn.model_selection import train_test_split\n",
    "X_train, X_test, y_train, y_test = train_test_split(X , y, test_size = 0.25, random_state = 0)\n",
    "\n",
    "# then we apply feature scalling on  X sets\n",
    "from sklearn.preprocessing import StandardScaler\n",
    "sc = StandardScaler()\n",
    "X_train = sc.fit_transform(X_train)\n",
    "X_test = sc.fit_transform(X_test)\n",
    "\n",
    "# Here we fit our traing set to the model \n"
   ]
  },
  {
   "cell_type": "code",
   "execution_count": 2,
   "metadata": {},
   "outputs": [],
   "source": [
    "\"\"\"Logistic Regression\"\"\"\n",
    "from sklearn.linear_model import LogisticRegression\n",
    "LR_Classifier = LogisticRegression(random_state=0)\n",
    "LR_Classifier.fit(X_train , y_train)\n",
    "LR_Y_Predection = LR_Classifier.predict(X_test)\n"
   ]
  },
  {
   "cell_type": "code",
   "execution_count": 3,
   "metadata": {},
   "outputs": [
    {
     "name": "stderr",
     "output_type": "stream",
     "text": [
      "c:\\Users\\dell\\anaconda3\\lib\\site-packages\\sklearn\\neighbors\\_classification.py:228: FutureWarning: Unlike other reduction functions (e.g. `skew`, `kurtosis`), the default behavior of `mode` typically preserves the axis it acts along. In SciPy 1.11.0, this behavior will change: the default value of `keepdims` will become False, the `axis` over which the statistic is taken will be eliminated, and the value None will no longer be accepted. Set `keepdims` to True or False to avoid this warning.\n",
      "  mode, _ = stats.mode(_y[neigh_ind, k], axis=1)\n"
     ]
    }
   ],
   "source": [
    "\"\"\"KNN Classifier\"\"\"\n",
    "from sklearn.neighbors import KNeighborsClassifier\n",
    "KNN_Classifier = KNeighborsClassifier(n_neighbors=5 , metric='minkowski' , p=2)\n",
    "KNN_Classifier.fit(X_train,y_train)\n",
    "KNN_Y_Predection = KNN_Classifier.predict(X_test)\n"
   ]
  },
  {
   "cell_type": "code",
   "execution_count": 4,
   "metadata": {},
   "outputs": [],
   "source": [
    "\"\"\"SVM Classifier\"\"\"\n",
    "from sklearn.svm import SVC\n",
    "SVM_Classifier = SVC(kernel=\"rbf\" , random_state=0)\n",
    "SVM_Classifier.fit(X_train , y_train)\n",
    "SVM_Y_Predection = SVM_Classifier.predict(X_test)\n"
   ]
  },
  {
   "cell_type": "code",
   "execution_count": 5,
   "metadata": {},
   "outputs": [],
   "source": [
    "\"\"\"Naive Bayes Classifier\"\"\"\n",
    "from sklearn.naive_bayes import GaussianNB\n",
    "NB_Classifier = GaussianNB()\n",
    "NB_Classifier.fit(X_train , y_train)\n",
    "NB_Y_Predection = NB_Classifier.predict(X_test)"
   ]
  },
  {
   "cell_type": "code",
   "execution_count": 30,
   "metadata": {},
   "outputs": [],
   "source": [
    "\"\"\"Decision Tree Classifier\"\"\"\n",
    "from sklearn.tree import DecisionTreeClassifier \n",
    "DT_Classifier = DecisionTreeClassifier(criterion = 'entropy' , random_state= 0)\n",
    "DT_Classifier.fit(X_train , y_train)\n",
    "DT_Y_Predection = DT_Classifier.predict(X_test)"
   ]
  },
  {
   "cell_type": "code",
   "execution_count": 31,
   "metadata": {},
   "outputs": [],
   "source": [
    "\"\"\"Rndom Forest Classifier\"\"\"\n",
    "from sklearn.ensemble import RandomForestClassifier\n",
    "RF_Classifier = RandomForestClassifier(n_estimators= 15 , criterion = 'entropy' , random_state= 0)\n",
    "RF_Classifier.fit(X_train , y_train)\n",
    "RF_Y_Predection = RF_Classifier.predict(X_test)"
   ]
  },
  {
   "cell_type": "code",
   "execution_count": 32,
   "metadata": {},
   "outputs": [
    {
     "name": "stdout",
     "output_type": "stream",
     "text": [
      "[0.91, 0.93, 0.93, 0.87, 0.9, 0.92]\n"
     ]
    }
   ],
   "source": [
    "\"\"\" Comparing the results of each model \"\"\"\n",
    "from sklearn.metrics import confusion_matrix, accuracy_score\n",
    "\n",
    "NB_Classifier_cm = confusion_matrix(y_test, NB_Y_Predection )\n",
    "SVM_Classifier_cm = confusion_matrix(y_test, SVM_Y_Predection )\n",
    "KNN_Classifier_cm = confusion_matrix(y_test, KNN_Y_Predection )\n",
    "LR_Classifier_cm = confusion_matrix(y_test, LR_Y_Predection )\n",
    "DT_Classifier_cm = confusion_matrix(y_test, DT_Y_Predection )\n",
    "RF_Classifier_cm = confusion_matrix(y_test, RF_Y_Predection )\n",
    "\n",
    "\n",
    "accuracy_score_list = [\n",
    "accuracy_score(y_test, NB_Y_Predection),\n",
    "accuracy_score(y_test, SVM_Y_Predection),\n",
    "accuracy_score(y_test,KNN_Y_Predection),\n",
    "accuracy_score(y_test, LR_Y_Predection ), \n",
    "accuracy_score(y_test, DT_Y_Predection),\n",
    "accuracy_score(y_test, RF_Y_Predection)\n",
    "]\n",
    "\n",
    "print(accuracy_score_list)"
   ]
  }
 ],
 "metadata": {
  "kernelspec": {
   "display_name": "base",
   "language": "python",
   "name": "python3"
  },
  "language_info": {
   "codemirror_mode": {
    "name": "ipython",
    "version": 3
   },
   "file_extension": ".py",
   "mimetype": "text/x-python",
   "name": "python",
   "nbconvert_exporter": "python",
   "pygments_lexer": "ipython3",
   "version": "3.9.13"
  },
  "orig_nbformat": 4
 },
 "nbformat": 4,
 "nbformat_minor": 2
}
