{
 "cells": [
  {
   "cell_type": "code",
   "execution_count": 1,
   "metadata": {},
   "outputs": [
    {
     "name": "stderr",
     "output_type": "stream",
     "text": [
      "[nltk_data] Downloading package stopwords to\n",
      "[nltk_data]     C:\\Users\\dell\\AppData\\Roaming\\nltk_data...\n",
      "[nltk_data]   Package stopwords is already up-to-date!\n"
     ]
    }
   ],
   "source": [
    "import pandas as pd\n",
    "import numpy as np\n",
    "import matplotlib.pyplot as plt\n",
    "import re\n",
    "import nltk\n",
    "from nltk.corpus import stopwords\n",
    "from nltk.stem.porter import PorterStemmer\n",
    "from sklearn.feature_extraction.text import TfidfVectorizer\n",
    "from sklearn.ensemble import RandomForestClassifier\n",
    "from sklearn.metrics import classification_report, confusion_matrix, accuracy_score\n",
    "from sklearn.model_selection import train_test_split\n",
    "\n",
    "# Download necessary NLTK resources\n",
    "nltk.download(\"stopwords\")\n",
    "\n",
    "# Load the dataset\n",
    "dataset = pd.read_csv('Restaurant_Reviews.tsv', delimiter='\\t', quoting=3)\n",
    "\n",
    "# Text preprocessing\n",
    "corpus = []\n",
    "ps = PorterStemmer()\n",
    "stop_words = set(stopwords.words('english'))\n",
    "for review in dataset['Review']:\n",
    "    review = re.sub('[^a-zA-Z]', ' ', review)\n",
    "    review = review.lower()\n",
    "    review = review.split()\n",
    "    review = [ps.stem(word) for word in review if word not in stop_words]\n",
    "    review = ' '.join(review)\n",
    "    corpus.append(review)\n",
    "\n",
    "# Feature extraction using TF-IDF\n",
    "vectorizer = TfidfVectorizer(max_features=1500)\n",
    "X = vectorizer.fit_transform(corpus).toarray()\n",
    "\n",
    "# Split the data into training and test sets\n",
    "X_train, X_test, y_train, y_test = train_test_split(X, dataset['Liked'], test_size=0.2, random_state=0)\n",
    "\n",
    "\n",
    "\n"
   ]
  },
  {
   "cell_type": "code",
   "execution_count": 2,
   "metadata": {},
   "outputs": [
    {
     "name": "stdout",
     "output_type": "stream",
     "text": [
      "Confusion Matrix:\n",
      "[[81 16]\n",
      " [40 63]]\n",
      "\n",
      "Classification Report:\n",
      "              precision    recall  f1-score   support\n",
      "\n",
      "           0       0.67      0.84      0.74        97\n",
      "           1       0.80      0.61      0.69       103\n",
      "\n",
      "    accuracy                           0.72       200\n",
      "   macro avg       0.73      0.72      0.72       200\n",
      "weighted avg       0.74      0.72      0.72       200\n",
      "\n",
      "\n",
      "Accuracy: 0.72\n"
     ]
    }
   ],
   "source": [
    "\"\"\"Decision Tree Classifier\"\"\"\n",
    "from sklearn.tree import DecisionTreeClassifier \n",
    "DT_Classifier = DecisionTreeClassifier(criterion = 'entropy' , random_state= 0)\n",
    "DT_Classifier.fit(X_train , y_train)\n",
    "DT_Y_Predection = DT_Classifier.predict(X_test)\n",
    "\n",
    "# Evaluate the model\n",
    "print(\"Confusion Matrix:\")\n",
    "print(confusion_matrix(y_test, DT_Y_Predection))\n",
    "print(\"\\nClassification Report:\")\n",
    "print(classification_report(y_test, DT_Y_Predection))\n",
    "print(\"\\nAccuracy:\", accuracy_score(y_test, DT_Y_Predection))"
   ]
  },
  {
   "cell_type": "code",
   "execution_count": 3,
   "metadata": {},
   "outputs": [
    {
     "name": "stdout",
     "output_type": "stream",
     "text": [
      "Confusion Matrix:\n",
      "[[57 40]\n",
      " [16 87]]\n",
      "\n",
      "Classification Report:\n",
      "              precision    recall  f1-score   support\n",
      "\n",
      "           0       0.78      0.59      0.67        97\n",
      "           1       0.69      0.84      0.76       103\n",
      "\n",
      "    accuracy                           0.72       200\n",
      "   macro avg       0.73      0.72      0.71       200\n",
      "weighted avg       0.73      0.72      0.71       200\n",
      "\n",
      "\n",
      "Accuracy: 0.72\n"
     ]
    }
   ],
   "source": [
    "\"\"\"Naive Bayes Classifier\"\"\"\n",
    "from sklearn.naive_bayes import GaussianNB\n",
    "NB_Classifier = GaussianNB()\n",
    "NB_Classifier.fit(X_train , y_train)\n",
    "NB_Y_Predection = NB_Classifier.predict(X_test)\n",
    "\n",
    "# Evaluate the model\n",
    "print(\"Confusion Matrix:\")\n",
    "print(confusion_matrix(y_test, NB_Y_Predection))\n",
    "print(\"\\nClassification Report:\")\n",
    "print(classification_report(y_test, NB_Y_Predection))\n",
    "print(\"\\nAccuracy:\", accuracy_score(y_test, NB_Y_Predection))"
   ]
  },
  {
   "cell_type": "code",
   "execution_count": 4,
   "metadata": {},
   "outputs": [
    {
     "name": "stdout",
     "output_type": "stream",
     "text": [
      "Confusion Matrix:\n",
      "[[83 14]\n",
      " [35 68]]\n",
      "\n",
      "Classification Report:\n",
      "              precision    recall  f1-score   support\n",
      "\n",
      "           0       0.70      0.86      0.77        97\n",
      "           1       0.83      0.66      0.74       103\n",
      "\n",
      "    accuracy                           0.76       200\n",
      "   macro avg       0.77      0.76      0.75       200\n",
      "weighted avg       0.77      0.76      0.75       200\n",
      "\n",
      "\n",
      "Accuracy: 0.755\n"
     ]
    }
   ],
   "source": [
    "\"\"\"SVM Classifier\"\"\"\n",
    "from sklearn.svm import SVC\n",
    "SVM_Classifier = SVC(kernel=\"rbf\" , random_state=0)\n",
    "SVM_Classifier.fit(X_train , y_train)\n",
    "SVM_Y_Predection = SVM_Classifier.predict(X_test)\n",
    "\n",
    "\n",
    "\n",
    "# Evaluate the model\n",
    "print(\"Confusion Matrix:\")\n",
    "print(confusion_matrix(y_test, SVM_Y_Predection))\n",
    "print(\"\\nClassification Report:\")\n",
    "print(classification_report(y_test, SVM_Y_Predection))\n",
    "print(\"\\nAccuracy:\", accuracy_score(y_test , SVM_Y_Predection))"
   ]
  },
  {
   "cell_type": "code",
   "execution_count": 5,
   "metadata": {},
   "outputs": [
    {
     "name": "stdout",
     "output_type": "stream",
     "text": [
      "Confusion Matrix:\n",
      "[[79 18]\n",
      " [42 61]]\n",
      "\n",
      "Classification Report:\n",
      "              precision    recall  f1-score   support\n",
      "\n",
      "           0       0.65      0.81      0.72        97\n",
      "           1       0.77      0.59      0.67       103\n",
      "\n",
      "    accuracy                           0.70       200\n",
      "   macro avg       0.71      0.70      0.70       200\n",
      "weighted avg       0.71      0.70      0.70       200\n",
      "\n",
      "\n",
      "Accuracy: 0.7\n"
     ]
    },
    {
     "name": "stderr",
     "output_type": "stream",
     "text": [
      "c:\\Users\\dell\\anaconda3\\lib\\site-packages\\sklearn\\neighbors\\_classification.py:228: FutureWarning: Unlike other reduction functions (e.g. `skew`, `kurtosis`), the default behavior of `mode` typically preserves the axis it acts along. In SciPy 1.11.0, this behavior will change: the default value of `keepdims` will become False, the `axis` over which the statistic is taken will be eliminated, and the value None will no longer be accepted. Set `keepdims` to True or False to avoid this warning.\n",
      "  mode, _ = stats.mode(_y[neigh_ind, k], axis=1)\n"
     ]
    }
   ],
   "source": [
    "\"\"\"KNN Classifier\"\"\"\n",
    "from sklearn.neighbors import KNeighborsClassifier\n",
    "KNN_Classifier = KNeighborsClassifier(n_neighbors=5 , metric='minkowski' , p=2)\n",
    "KNN_Classifier.fit(X_train,y_train)\n",
    "KNN_Y_Predection = KNN_Classifier.predict(X_test)\n",
    "\n",
    "\n",
    "# Evaluate the model\n",
    "print(\"Confusion Matrix:\")\n",
    "print(confusion_matrix(y_test, KNN_Y_Predection))\n",
    "print(\"\\nClassification Report:\")\n",
    "print(classification_report(y_test, KNN_Y_Predection))\n",
    "print(\"\\nAccuracy:\", accuracy_score(y_test, KNN_Y_Predection))"
   ]
  },
  {
   "cell_type": "code",
   "execution_count": 6,
   "metadata": {},
   "outputs": [
    {
     "name": "stdout",
     "output_type": "stream",
     "text": [
      "Confusion Matrix:\n",
      "[[85 12]\n",
      " [37 66]]\n",
      "\n",
      "Classification Report:\n",
      "              precision    recall  f1-score   support\n",
      "\n",
      "           0       0.70      0.88      0.78        97\n",
      "           1       0.85      0.64      0.73       103\n",
      "\n",
      "    accuracy                           0.76       200\n",
      "   macro avg       0.77      0.76      0.75       200\n",
      "weighted avg       0.77      0.76      0.75       200\n",
      "\n",
      "\n",
      "Accuracy: 0.755\n"
     ]
    }
   ],
   "source": [
    "\"\"\"Logistic Regression\"\"\"\n",
    "from sklearn.linear_model import LogisticRegression\n",
    "LR_Classifier = LogisticRegression(random_state=0)\n",
    "LR_Classifier.fit(X_train , y_train)\n",
    "LR_Y_Predection = LR_Classifier.predict(X_test)\n",
    "\n",
    "\n",
    "# Evaluate the model\n",
    "print(\"Confusion Matrix:\")\n",
    "print(confusion_matrix(y_test, LR_Y_Predection))\n",
    "print(\"\\nClassification Report:\")\n",
    "print(classification_report(y_test, LR_Y_Predection))\n",
    "print(\"\\nAccuracy:\", accuracy_score(y_test, LR_Y_Predection))"
   ]
  }
 ],
 "metadata": {
  "kernelspec": {
   "display_name": "base",
   "language": "python",
   "name": "python3"
  },
  "language_info": {
   "codemirror_mode": {
    "name": "ipython",
    "version": 3
   },
   "file_extension": ".py",
   "mimetype": "text/x-python",
   "name": "python",
   "nbconvert_exporter": "python",
   "pygments_lexer": "ipython3",
   "version": "3.9.13"
  },
  "orig_nbformat": 4
 },
 "nbformat": 4,
 "nbformat_minor": 2
}
