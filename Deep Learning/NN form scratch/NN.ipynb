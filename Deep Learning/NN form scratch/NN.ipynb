{
 "cells": [
  {
   "cell_type": "code",
   "execution_count": 4,
   "metadata": {},
   "outputs": [
    {
     "data": {
      "text/plain": [
       "-1.098445"
      ]
     },
     "execution_count": 4,
     "metadata": {},
     "output_type": "execute_result"
    }
   ],
   "source": [
    "import numpy as np \n",
    "import nnfs\n",
    "from nnfs.datasets import spiral_data\n",
    "\n",
    "nnfs.init()\n",
    "\n",
    "\n",
    "class Layer_Dense : \n",
    "    def __init__(self , n_inputs , n_neurons) : \n",
    "       self.weights = 0.1 * np.random.randn(n_inputs , n_neurons)\n",
    "       self.baises = np.zeros((1,n_neurons))\n",
    "    def forward(self , inputs):\n",
    "       self.output = np.dot(inputs , self.weights) + self.baises\n",
    "\n",
    "class Activation_Relu() :\n",
    "   def forward(self , inputs):\n",
    "      self.output = np.maximum(0,inputs)\n",
    "\n",
    "class Activation_Softmax :\n",
    "   def forward(self , inputs) : \n",
    "      exp_values = np.exp(inputs - np.max(inputs , axis=1 , keepdims=True))\n",
    "      probabilities = exp_values / np.sum(exp_values , axis=1 , keepdims=True)\n",
    "      self.output = probabilities\n",
    "\n",
    "class Loss : \n",
    "   def calculate(self , output , y) : \n",
    "      sample_losses = self.forword(output ,y)\n",
    "      data_loss= np.mean(sample_losses)\n",
    "      return data_loss\n",
    "   \n",
    "class Loss_CategoricalCrossentropy(Loss): \n",
    "   def forword(self , y_pred , y_true):\n",
    "      samples = len(y_pred)\n",
    "      y_pred_clipped = np.clip(y_pred , 1e-7 , 1-1e-7)\n",
    "      if len(y_true.shape) == 1 : \n",
    "         correct_confidences = y_pred_clipped[range(samples) , y_true]\n",
    "      elif len(y_true.shape) == 2  : \n",
    "         correct_confidences = np.sum(y_pred_clipped * y_true , axis= 1 )\n",
    "      negative_log_likelihood = np.log(correct_confidences)\n",
    "      return negative_log_likelihood    \n",
    "\n",
    "\n",
    "\n",
    "X , y = spiral_data(samples=100 , classes=3)\n",
    "\n",
    "dense1 = Layer_Dense(2 , 3)\n",
    "activation1 = Activation_Relu()\n",
    "dense2 = Layer_Dense(3 , 3)\n",
    "activation2 = Activation_Softmax()\n",
    "\n",
    "dense1.forward(X)\n",
    "activation1.forward(dense1.output)\n",
    "dense2.forward(activation1.output)\n",
    "activation2.forward(dense2.output)\n",
    "activation2.output[:5]\n",
    "\n",
    "loss_function  = Loss_CategoricalCrossentropy()\n",
    "loss = loss_function.calculate(activation2.output , y )\n",
    "\n"
   ]
  }
 ],
 "metadata": {
  "kernelspec": {
   "display_name": "base",
   "language": "python",
   "name": "python3"
  },
  "language_info": {
   "codemirror_mode": {
    "name": "ipython",
    "version": 3
   },
   "file_extension": ".py",
   "mimetype": "text/x-python",
   "name": "python",
   "nbconvert_exporter": "python",
   "pygments_lexer": "ipython3",
   "version": "3.11.0"
  }
 },
 "nbformat": 4,
 "nbformat_minor": 2
}
