{
 "cells": [
  {
   "cell_type": "code",
   "execution_count": null,
   "metadata": {},
   "outputs": [],
   "source": [
    "\"Exponentaily Weighted Moving Avareges (EWMA)\"\n",
    "\n",
    "import pandas as pd\n",
    "\n",
    "def ewma(data, alpha):\n",
    "    \"\"\"\n",
    "    Compute Exponential Weighted Moving Average (EWMA) for a given time series data.\n",
    "\n",
    "    Parameters:\n",
    "    - data: List or Pandas Series, the input time series data.\n",
    "    - alpha: float, smoothing parameter (0 < alpha <= 1).\n",
    "\n",
    "    Returns:\n",
    "    - ewma_values: List, the computed EWMA values.\n",
    "    \"\"\"\n",
    "    ewma_values = [data[0]]  # Initialize with the first value of the data\n",
    "\n",
    "    for i in range(1, len(data)):\n",
    "        ewma_values.append(alpha * data[i] + (1 - alpha) * ewma_values[-1])\n",
    "\n",
    "    return ewma_values\n",
    "\n",
    "# Example usage:\n",
    "# Assuming you have a time series data in a list or Pandas Series\n",
    "time_series_data = [10, 12, 14, 16, 18, 20, 22]\n",
    "alpha_value = 0.2  # Adjust alpha based on the level of smoothing you desire\n",
    "\n",
    "ewma_result = ewma(time_series_data, alpha_value)\n",
    "\n",
    "# Display the original data and the computed EWMA values\n",
    "df = pd.DataFrame({'Original Data': time_series_data, 'EWMA': ewma_result})\n",
    "print(df)\n"
   ]
  }
 ],
 "metadata": {
  "language_info": {
   "name": "python"
  }
 },
 "nbformat": 4,
 "nbformat_minor": 2
}
