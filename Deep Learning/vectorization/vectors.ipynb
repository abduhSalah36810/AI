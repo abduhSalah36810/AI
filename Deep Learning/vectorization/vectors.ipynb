{
 "cells": [
  {
   "cell_type": "code",
   "execution_count": 13,
   "metadata": {},
   "outputs": [
    {
     "name": "stdout",
     "output_type": "stream",
     "text": [
      "vectorized version : 39.97373580932617 ms\n",
      "for loop version : 751.1279582977295 ms \n"
     ]
    }
   ],
   "source": [
    "import numpy as np\n",
    "import time\n",
    "tic = time.time()\n",
    "a = np.random.rand(1000000)\n",
    "b = np.random.rand(1000000)\n",
    "c = np.dot(a,b) \n",
    "tac = time.time()\n",
    "print(f\"vectorized version : {1000 *(tac-tic) } ms\")\n",
    "c= 0\n",
    "tic = time.time()\n",
    "for i in range(1000000) : \n",
    "    c += a[i] * b[i] \n",
    "toc = time.time()\n",
    "print(f'for loop version : {1000* (toc - tic)} ms ')\n",
    "\n",
    "\n",
    "\n"
   ]
  },
  {
   "cell_type": "code",
   "execution_count": null,
   "metadata": {},
   "outputs": [],
   "source": [
    "\n"
   ]
  }
 ],
 "metadata": {
  "kernelspec": {
   "display_name": "base",
   "language": "python",
   "name": "python3"
  },
  "language_info": {
   "codemirror_mode": {
    "name": "ipython",
    "version": 3
   },
   "file_extension": ".py",
   "mimetype": "text/x-python",
   "name": "python",
   "nbconvert_exporter": "python",
   "pygments_lexer": "ipython3",
   "version": "3.9.13"
  },
  "orig_nbformat": 4
 },
 "nbformat": 4,
 "nbformat_minor": 2
}
