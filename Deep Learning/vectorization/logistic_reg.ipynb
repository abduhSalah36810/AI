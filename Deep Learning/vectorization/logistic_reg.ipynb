{
 "cells": [
  {
   "cell_type": "code",
   "execution_count": 5,
   "metadata": {},
   "outputs": [
    {
     "name": "stdout",
     "output_type": "stream",
     "text": [
      "Accuracy: 1.0\n"
     ]
    }
   ],
   "source": [
    "import numpy as np\n",
    "\n",
    "\n",
    "np.random.seed(0)\n",
    "x = np.random.randn(100,2)\n",
    "y = (x[: , 0  ] + x[: , 1] > 0 ).astype(int)\n",
    "\n",
    "\n",
    "learning_rate = 0.1\n",
    "num_iterations = 10000\n",
    "\n",
    "\n",
    "m , n = x.shape\n",
    "theta = np.zeros(n)\n",
    "\n",
    "def sigmoid(z) :\n",
    "    return 1 / (1 + np.exp(-z)) \n",
    "\n",
    "for _ in range(num_iterations) : \n",
    "    z = np.dot(x,theta)\n",
    "    a = sigmoid(z)\n",
    "    gradient = np.dot(x.T , (a-y) )  / m\n",
    "    theta-= learning_rate * gradient    \n",
    "\n",
    "\n",
    "\n",
    "z = np.dot(x, theta)\n",
    "h = sigmoid(z)\n",
    "y_pred = (h >= 0.5).astype(int)\n",
    "\n",
    "# Calculate accuracy\n",
    "accuracy = np.mean(y_pred == y)\n",
    "print(\"Accuracy:\", accuracy)\n",
    "\n",
    "\n",
    " "
   ]
  }
 ],
 "metadata": {
  "kernelspec": {
   "display_name": "base",
   "language": "python",
   "name": "python3"
  },
  "language_info": {
   "codemirror_mode": {
    "name": "ipython",
    "version": 3
   },
   "file_extension": ".py",
   "mimetype": "text/x-python",
   "name": "python",
   "nbconvert_exporter": "python",
   "pygments_lexer": "ipython3",
   "version": "3.9.13"
  },
  "orig_nbformat": 4
 },
 "nbformat": 4,
 "nbformat_minor": 2
}
