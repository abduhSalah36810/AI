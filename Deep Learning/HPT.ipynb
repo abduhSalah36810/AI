{
 "cells": [
  {
   "cell_type": "code",
   "execution_count": 7,
   "metadata": {},
   "outputs": [
    {
     "name": "stderr",
     "output_type": "stream",
     "text": [
      "C:\\Users\\dell\\AppData\\Local\\Temp\\ipykernel_2140\\234609950.py:41: RuntimeWarning: overflow encountered in exp\n",
      "  return 1 / (1 + np.exp(-Z))\n"
     ]
    },
    {
     "name": "stdout",
     "output_type": "stream",
     "text": [
      "Iteration 0: Cost = 0.6024\n",
      "Iteration 1000: Cost = 0.5999\n",
      "Iteration 2000: Cost = 0.5999\n",
      "Iteration 3000: Cost = 0.5999\n",
      "Iteration 4000: Cost = 0.5999\n",
      "Iteration 5000: Cost = 0.5999\n",
      "Iteration 6000: Cost = 0.5999\n",
      "Iteration 7000: Cost = 0.5999\n",
      "Iteration 8000: Cost = 0.5999\n",
      "Iteration 9000: Cost = 0.5999\n"
     ]
    },
    {
     "name": "stderr",
     "output_type": "stream",
     "text": [
      "C:\\Users\\dell\\AppData\\Local\\Temp\\ipykernel_2140\\234609950.py:99: VisibleDeprecationWarning: Creating an ndarray from ragged nested sequences (which is a list-or-tuple of lists-or-tuples-or ndarrays with different lengths or shapes) is deprecated. If you meant to do this, you must specify 'dtype=object' when creating the ndarray.\n",
      "  y_pred = np.array(y_pred)\n"
     ]
    },
    {
     "data": {
      "image/png": "[encoded data removed]",
      "text/plain": [
       "<Figure size 640x480 with 1 Axes>"
      ]
     },
     "metadata": {},
     "output_type": "display_data"
    }
   ],
   "source": [
    "import numpy as np\n",
    "import pandas as pd\n",
    "\n",
    "np.random.seed(0)\n",
    "\n",
    "num_samples = 400\n",
    "\n",
    "threshold = 0.5\n",
    "\n",
    "\n",
    "dataset = pd.read_csv(\"Social_Network_Ads.csv\")\n",
    "\n",
    "X = dataset.iloc[: , :-1].values\n",
    "Y = dataset.iloc[: , -1].values\n",
    "\n",
    "split_ratio = 0.8\n",
    "split_index = int(num_samples * split_ratio)\n",
    "\n",
    "x_train = X[:split_index].T  # Transpose the training data\n",
    "x_test = X[split_index:].T   # Transpose the test data\n",
    "\n",
    "y_train = Y[:split_index].T # Transpose the training labels\n",
    "y_test = Y[split_index:].T   # Transpose the test labels\n",
    "\n",
    "input_dim = 2\n",
    "hidden_dim1 = 5\n",
    "hidden_dim2 = 5\n",
    "hidden_dim3 = 3\n",
    "output_dim = 1\n",
    "\n",
    "w1 = np.random.randn(hidden_dim1, input_dim)\n",
    "b1 = np.zeros((hidden_dim1, 1))\n",
    "w2 = np.random.randn(hidden_dim2, hidden_dim1)\n",
    "b2 = np.zeros((hidden_dim2, 1))\n",
    "w3 = np.random.randn(hidden_dim3, hidden_dim2)\n",
    "b3 = np.zeros((hidden_dim3, 1))\n",
    "w4 = np.random.randn(output_dim, hidden_dim3)\n",
    "b4 = np.zeros((output_dim, 1))\n",
    "\n",
    "def sigmoid(Z):\n",
    "    return 1 / (1 + np.exp(-Z))\n",
    "\n",
    "def forward_propagation(X):\n",
    "    z1 = np.dot(w1, X) + b1\n",
    "    a1 = sigmoid(z1)\n",
    "    z2 = np.dot(w2, a1) + b2\n",
    "    a2 = sigmoid(z2)\n",
    "    z3 = np.dot(w3, a2) + b3\n",
    "    a3 = sigmoid(z3)\n",
    "    z4 = np.dot(w4, a3) + b4\n",
    "    a4 = sigmoid(z4)\n",
    "    return a1, a2, a3, a4  # Return all activation values\n",
    "\n",
    "def backward_propagation(X, Y, cache):\n",
    "    global w1, w2, w3, w4, b1, b2, b3, b4  # Declare all weight and bias variables as global\n",
    "    m = X.shape[1]\n",
    "    a1, a2, a3, a4 = cache\n",
    "    dz4 = a4 - Y\n",
    "    dw4 = (1/m) * np.dot(dz4, a3.T)\n",
    "    db4 = (1/m) * np.sum(dz4, axis=1, keepdims=True)\n",
    "    dz3 = np.dot(w4.T, dz4) * (a3 * (1 - a3))\n",
    "    dw3 = (1/m) * np.dot(dz3, a2.T)\n",
    "    db3 = (1/m) * np.sum(dz3, axis=1, keepdims=True)\n",
    "    dz2 = np.dot(w3.T, dz3) * (a2 * (1 - a2))\n",
    "    dw2 = (1/m) * np.dot(dz2, a1.T)\n",
    "    db2 = (1/m) * np.sum(dz2, axis=1, keepdims=True)\n",
    "    dz1 = np.dot(w2.T, dz2) * (a1 * (1 - a1))\n",
    "    dw1 = (1/m) * np.dot(dz1, X.T)\n",
    "    db1 = (1 / m) * np.sum(dz1, axis=1, keepdims=True)\n",
    "\n",
    "    w4 -= learning_rate * dw4\n",
    "    b4 -= learning_rate * db4\n",
    "    w3 -= learning_rate * dw3\n",
    "    b3 -= learning_rate * db3\n",
    "    w2 -= learning_rate * dw2\n",
    "    b2 -= learning_rate * db2\n",
    "    w1 -= learning_rate * dw1\n",
    "    b1 -= learning_rate * db1\n",
    "\n",
    "learning_rate = 0.01\n",
    "num_of_iterations = 10000\n",
    "\n",
    "\n",
    "\n",
    "import matplotlib.pyplot as plt\n",
    "costs = []\n",
    "for i in range(num_of_iterations):\n",
    "    cache = forward_propagation(x_train)\n",
    "    cost = -np.mean(y_train * np.log(cache[3]) + (1 - y_train) * np.log(1 - cache[3]))\n",
    "    costs.append(cost)  # Append the cost to the list\n",
    "    backward_propagation(x_train, y_train, cache)\n",
    "    if i % 1000 == 0:\n",
    "        print(f\"Iteration {i}: Cost = {cost:.4f}\")\n",
    "\n",
    "\n",
    "\n",
    "\n",
    "#from sklearn.metrics import confusion_matrix, accuracy_score\n",
    "#cm = confusion_matrix(y_test, y_pred)\n",
    "#accuracy_score(y_test, y_pred)\n",
    "\n",
    "plt.plot(range(num_of_iterations), costs)\n",
    "plt.xlabel(\"Iterations\")\n",
    "plt.ylabel(\"Cost\")\n",
    "plt.title(\"Cost Function Over Iterations\")\n",
    "plt.show()\n",
    "\n"
   ]
  },
  {
   "cell_type": "code",
   "execution_count": 13,
   "metadata": {},
   "outputs": [
    {
     "name": "stderr",
     "output_type": "stream",
     "text": [
      "C:\\Users\\dell\\AppData\\Local\\Temp\\ipykernel_2140\\234609950.py:41: RuntimeWarning: overflow encountered in exp\n",
      "  return 1 / (1 + np.exp(-Z))\n"
     ]
    },
    {
     "name": "stdout",
     "output_type": "stream",
     "text": [
      "Iteration 0: Cost = 0.6548\n",
      "Iteration 1000: Cost = 0.6548\n",
      "Iteration 2000: Cost = 0.6548\n",
      "Iteration 3000: Cost = 0.6548\n",
      "Iteration 4000: Cost = 0.6548\n",
      "Iteration 5000: Cost = 0.6548\n",
      "Iteration 6000: Cost = 0.6548\n",
      "Iteration 7000: Cost = 0.6548\n",
      "Iteration 8000: Cost = 0.6548\n",
      "Iteration 9000: Cost = 0.6548\n"
     ]
    }
   ],
   "source": [
    "costs = []\n",
    "for i in range(num_of_iterations):\n",
    "    cache = forward_propagation(x_test)\n",
    "    cost = -np.mean(y_test * np.log(cache[3]) + (1 - y_test) * np.log(1 - cache[3]))\n",
    "    costs.append(cost)  # Append the cost to the list\n",
    "    backward_propagation(x_test, y_test, cache)\n",
    "    if i % 1000 == 0:\n",
    "        print(f\"Iteration {i}: Cost = {cost:.4f}\")"
   ]
  }
 ],
 "metadata": {
  "kernelspec": {
   "display_name": "base",
   "language": "python",
   "name": "python3"
  },
  "language_info": {
   "codemirror_mode": {
    "name": "ipython",
    "version": 3
   },
   "file_extension": ".py",
   "mimetype": "text/x-python",
   "name": "python",
   "nbconvert_exporter": "python",
   "pygments_lexer": "ipython3",
   "version": "3.9.13"
  }
 },
 "nbformat": 4,
 "nbformat_minor": 2
}
