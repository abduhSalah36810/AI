{
 "cells": [
  {
   "cell_type": "code",
   "execution_count": 35,
   "metadata": {},
   "outputs": [
    {
     "name": "stdout",
     "output_type": "stream",
     "text": [
      "2.10.0\n"
     ]
    }
   ],
   "source": [
    "import tensorflow as tf\n",
    "\n",
    "\n",
    "print(tf.__version__)\n",
    "\n",
    "v = tf.Variable([1 ,3] , [3 , 5])\n",
    "a = tf.constant(value= [[ 1 ,2 ] , [3  , 4]]) \n",
    "b = tf.constant(value= [[5 , 6] , [7 , 8]])\n",
    "\n"
   ]
  },
  {
   "cell_type": "code",
   "execution_count": 34,
   "metadata": {},
   "outputs": [
    {
     "name": "stdout",
     "output_type": "stream",
     "text": [
      "tf.Tensor(\n",
      "[[1 2]\n",
      " [3 4]\n",
      " [5 6]\n",
      " [7 8]], shape=(4, 2), dtype=int32)\n"
     ]
    }
   ],
   "source": [
    "ab_concatenated= tf.concat(values=[a,b] , axis = 0 )\n",
    "print(ab_concatenated)"
   ]
  },
  {
   "cell_type": "code",
   "execution_count": 33,
   "metadata": {},
   "outputs": [
    {
     "name": "stdout",
     "output_type": "stream",
     "text": [
      "tf.Tensor(\n",
      "[[1. 1. 1. 1.]\n",
      " [1. 1. 1. 1.]\n",
      " [1. 1. 1. 1.]], shape=(3, 4), dtype=float32)\n",
      "tf.Tensor(\n",
      "[[1. 1. 1.]\n",
      " [1. 1. 1.]\n",
      " [1. 1. 1.]\n",
      " [1. 1. 1.]], shape=(4, 3), dtype=float32)\n"
     ]
    }
   ],
   "source": [
    "ones = tf.ones(shape= [3 , 4])\n",
    "ones_reshaped = tf.reshape(tensor= ones , shape= [4 , 3 ]) \n",
    "print(ones)\n",
    "print(ones_reshaped)\n",
    "\n"
   ]
  },
  {
   "cell_type": "code",
   "execution_count": 32,
   "metadata": {},
   "outputs": [
    {
     "name": "stdout",
     "output_type": "stream",
     "text": [
      "tf.Tensor(\n",
      "[[0. 0. 0. 0.]\n",
      " [0. 0. 0. 0.]\n",
      " [0. 0. 0. 0.]], shape=(3, 4), dtype=float32)\n"
     ]
    }
   ],
   "source": [
    "\n",
    "zeros = tf.zeros(shape= [ 3 , 4])\n",
    "print(zeros)\n"
   ]
  },
  {
   "cell_type": "code",
   "execution_count": 31,
   "metadata": {},
   "outputs": [
    {
     "name": "stdout",
     "output_type": "stream",
     "text": [
      "tf.Tensor(\n",
      "[[ 1.1794276  -0.19124176  0.6713962   0.3941233 ]\n",
      " [-2.2080843   0.14798874 -0.78069    -0.20578551]\n",
      " [ 2.3516834  -0.35085937  0.81409734  0.45681927]], shape=(3, 4), dtype=float32)\n",
      "tf.Tensor(\n",
      "[[ 1  0  0  0]\n",
      " [-2  0  0  0]\n",
      " [ 2  0  0  0]], shape=(3, 4), dtype=int32)\n",
      "tf.Tensor(\n",
      "[[ 1.1794276  -2.2080843   2.3516834 ]\n",
      " [-0.19124176  0.14798874 -0.35085937]\n",
      " [ 0.6713962  -0.78069     0.81409734]\n",
      " [ 0.3941233  -0.20578551  0.45681927]], shape=(4, 3), dtype=float32)\n"
     ]
    }
   ],
   "source": [
    "random = tf.random.normal(shape= [3 ,4])\n",
    "random2 = tf.cast(random ,tf.int32 )\n",
    "random3 = tf.transpose(random)\n",
    "print(random)\n",
    "print(random2)\n",
    "print(random3)"
   ]
  },
  {
   "cell_type": "code",
   "execution_count": 30,
   "metadata": {},
   "outputs": [
    {
     "name": "stdout",
     "output_type": "stream",
     "text": [
      "tf.Tensor(\n",
      "[[ 56]\n",
      " [ 92]\n",
      " [140]], shape=(3, 1), dtype=int32)\n",
      "tf.Tensor(\n",
      "[[  3   4   5]\n",
      " [ 12  14  16]\n",
      " [ 90  99 108]], shape=(3, 3), dtype=int32)\n",
      "tf.Tensor(\n",
      "[[1 0 0]\n",
      " [0 1 0]\n",
      " [0 0 1]], shape=(3, 3), dtype=int32)\n"
     ]
    }
   ],
   "source": [
    "mat1 = tf.constant([[3, 4 ,5 ] , [6 ,7 ,8] , [10 , 11 , 12]])\n",
    "mat2 = tf.constant([[1], [2] , [9]])\n",
    "\n",
    "\n",
    "print(tf.matmul(mat1 , mat2))\n",
    "print(tf.multiply(mat1 , mat2))\n",
    "row , column = mat1.shape\n",
    "print(tf.eye(num_columns= column , num_rows= row , dtype= tf.int32))"
   ]
  },
  {
   "cell_type": "code",
   "execution_count": null,
   "metadata": {},
   "outputs": [],
   "source": []
  },
  {
   "cell_type": "code",
   "execution_count": null,
   "metadata": {},
   "outputs": [],
   "source": []
  },
  {
   "cell_type": "code",
   "execution_count": null,
   "metadata": {},
   "outputs": [],
   "source": []
  },
  {
   "cell_type": "code",
   "execution_count": null,
   "metadata": {},
   "outputs": [],
   "source": []
  },
  {
   "cell_type": "code",
   "execution_count": null,
   "metadata": {},
   "outputs": [],
   "source": []
  },
  {
   "cell_type": "code",
   "execution_count": null,
   "metadata": {},
   "outputs": [],
   "source": []
  },
  {
   "cell_type": "code",
   "execution_count": null,
   "metadata": {},
   "outputs": [],
   "source": []
  }
 ],
 "metadata": {
  "kernelspec": {
   "display_name": "tensorflow",
   "language": "python",
   "name": "python3"
  },
  "language_info": {
   "codemirror_mode": {
    "name": "ipython",
    "version": 3
   },
   "file_extension": ".py",
   "mimetype": "text/x-python",
   "name": "python",
   "nbconvert_exporter": "python",
   "pygments_lexer": "ipython3",
   "version": "3.9.18"
  }
 },
 "nbformat": 4,
 "nbformat_minor": 2
}
